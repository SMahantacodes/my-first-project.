{
 "cells": [
  {
   "cell_type": "code",
   "execution_count": 1,
   "id": "731282bf-fa38-4df9-9401-541578cfcb2f",
   "metadata": {},
   "outputs": [],
   "source": [
    "import pandas as pd\n",
    "import numpy as np"
   ]
  },
  {
   "cell_type": "code",
   "execution_count": 2,
   "id": "c16a1365-5bcc-4962-bdb3-ffd6e83fc18a",
   "metadata": {},
   "outputs": [],
   "source": [
    "# Task 1: Creating DataFrames\n",
    "employee_data = {\n",
    "    \"ID\": [\"A001\", \"A002\", \"A003\", \"A004\", \"A005\"],\n",
    "    \"Name\": [\"John Alter\", \"Alice Luxumberg\", \"Tom Sabestine\", \"Nina Adgra\", \"Amy Johny\"],\n",
    "    \"Gender\": [\"M\", \"F\", \"M\", \"F\", \"F\"],\n",
    "    \"City\": [\"Paris\", \"London\", \"Berlin\", \"Newyork\", \"Madrid\"],\n",
    "    \"Age\": [25, 27, 29, 31, 30]\n",
    "}\n",
    "employee_df = pd.DataFrame(employee_data)"
   ]
  },
  {
   "cell_type": "code",
   "execution_count": 3,
   "id": "268ef9a7-aea9-41c5-a7f1-e09756b72517",
   "metadata": {},
   "outputs": [],
   "source": [
    "seniority_data = {\n",
    "    \"ID\": [\"A001\", \"A002\", \"A003\", \"A004\", \"A005\"],\n",
    "    \"Designation Level\": [2, 2, 3, 2, 3]\n",
    "}\n",
    "seniority_df = pd.DataFrame(seniority_data)"
   ]
  },
  {
   "cell_type": "code",
   "execution_count": 4,
   "id": "f225d23e-6302-46bc-85e1-695981710ca0",
   "metadata": {},
   "outputs": [],
   "source": [
    "project_data = {\n",
    "    \"ID\": [\"A001\", \"A002\", \"A003\", \"A004\", \"A005\", \"A002\", \"A005\", \"A003\", \"A001\", \"A003\", \"A001\", \"A004\", \"A004\", \"A005\"],\n",
    "    \"Project\": [\"Project 1\", \"Project 2\", \"Project 3\", \"Project 4\", \"Project 5\", \"Project 6\", \"Project 7\", \"Project 8\", \"Project 9\", \"Project 10\", \"Project 11\", \"Project 12\", \"Project 13\", \"Project 14\"],\n",
    "    \"Cost\": [1002000, 2000000, 4500000, 5500000, np.nan, 680000, 400000, 350000, np.nan, 300000, 2000000, 1000000, 3000000, 200000],\n",
    "    \"Status\": [\"Finished\", \"Ongoing\", \"Finished\", \"Ongoing\", \"Finished\", \"Failed\", \"Finished\", \"Failed\", \"Ongoing\", \"Finished\", \"Failed\", \"Ongoing\", \"Finished\", \"Finished\"]\n",
    "}\n",
    "project_df = pd.DataFrame(project_data)"
   ]
  },
  {
   "cell_type": "code",
   "execution_count": 5,
   "id": "5527b441-edfa-4701-83cf-932743cd91c1",
   "metadata": {},
   "outputs": [],
   "source": [
    "# Saving CSV Files\n",
    "employee_df.to_csv(\"Employee.csv\", index=False)\n",
    "seniority_df.to_csv(\"Seniority.csv\", index=False)\n",
    "project_df.to_csv(\"Project.csv\", index=False)"
   ]
  },
  {
   "cell_type": "code",
   "execution_count": 6,
   "id": "b596d406-e3ab-4dbb-899b-06178a274c55",
   "metadata": {},
   "outputs": [],
   "source": [
    "# Task 2: Handling Missing Values with Running Average\n",
    "costs = project_df[\"Cost\"].copy()\n",
    "for i in range(len(costs)):\n",
    "    if pd.isna(costs[i]):\n",
    "        costs[i] = np.nanmean(costs[:i])  # Running average\n",
    "project_df[\"Cost\"] = costs"
   ]
  },
  {
   "cell_type": "code",
   "execution_count": 8,
   "id": "e7db2b90-1a07-4046-8c00-440a202a731f",
   "metadata": {},
   "outputs": [],
   "source": [
    "# Task 3: Splitting Name Column\n",
    "employee_df[['First Name', 'Last Name']] = employee_df['Name'].str.split(n=1, expand=True)\n",
    "employee_df.drop(columns=['Name'], inplace=True)"
   ]
  },
  {
   "cell_type": "code",
   "execution_count": 9,
   "id": "878987c1-60d5-4f79-81f4-995eee3e3bcd",
   "metadata": {},
   "outputs": [],
   "source": [
    "# Task 4: Merging DataFrames\n",
    "final_df = employee_df.merge(seniority_df, on=\"ID\").merge(project_df, on=\"ID\")"
   ]
  },
  {
   "cell_type": "code",
   "execution_count": 10,
   "id": "2b29a09c-9df8-4702-a6ca-ab77bf51596b",
   "metadata": {},
   "outputs": [],
   "source": [
    "# Task 5: Adding Bonus Column (5% for Finished Projects)\n",
    "final_df['Bonus'] = np.where(final_df['Status'] == 'Finished', final_df['Cost'] * 0.05, 0)"
   ]
  },
  {
   "cell_type": "code",
   "execution_count": 11,
   "id": "fedfbf27-015b-4510-b36b-38c96170a0c2",
   "metadata": {},
   "outputs": [],
   "source": [
    "# Task 6: Demoting Employees with Failed Projects\n",
    "failed_projects = final_df[final_df['Status'] == 'Failed'][\"ID\"].unique()\n",
    "final_df.loc[final_df['ID'].isin(failed_projects), 'Designation Level'] += 1\n",
    "final_df = final_df[final_df['Designation Level'] <= 4]  # Remove employees with Designation Level > 4"
   ]
  },
  {
   "cell_type": "code",
   "execution_count": 12,
   "id": "e7f9fa92-cc90-4cd3-a85f-34b372af1233",
   "metadata": {},
   "outputs": [],
   "source": [
    "# Task 7: Adding Titles & Removing Gender Column\n",
    "final_df['First Name'] = np.where(final_df['Gender'] == 'M', \"Mr. \" + final_df['First Name'], \"Mrs. \" + final_df['First Name'])\n",
    "final_df.drop(columns=['Gender'], inplace=True)"
   ]
  },
  {
   "cell_type": "code",
   "execution_count": 14,
   "id": "3f896a3d-c6a5-4b0c-8b4e-24d087989639",
   "metadata": {},
   "outputs": [],
   "source": [
    "# Task 8: Promoting Employees Over Age 29\n",
    "final_df.loc[final_df['Age'] > 29, 'Designation Level'] -= 1"
   ]
  },
  {
   "cell_type": "code",
   "execution_count": 15,
   "id": "5ac1c93f-c32e-4e2f-a7e3-d3f2e5ed602b",
   "metadata": {},
   "outputs": [],
   "source": [
    "# Task 9: Summing Project Costs per Employee\n",
    "total_cost_df = final_df.groupby(['ID', 'First Name'])['Cost'].sum().reset_index()\n",
    "total_cost_df.rename(columns={'Cost': 'Total Cost'}, inplace=True)"
   ]
  },
  {
   "cell_type": "code",
   "execution_count": 16,
   "id": "d75a377c-964f-4853-87e3-e4fae72ed80d",
   "metadata": {},
   "outputs": [],
   "source": [
    "# Task 10: Employees in Cities Containing 'o'\n",
    "filtered_employees = final_df[final_df['City'].str.contains('o', case=False)]"
   ]
  },
  {
   "cell_type": "code",
   "execution_count": 17,
   "id": "5cd6265b-25ae-4c5d-b3be-68fb51a4f83a",
   "metadata": {},
   "outputs": [
    {
     "name": "stdout",
     "output_type": "stream",
     "text": [
      "Final DataFrame:\n",
      "     ID    City  Age  First Name  Last Name  Designation Level     Project  \\\n",
      "0  A001   Paris   25    Mr. John      Alter                  3   Project 1   \n",
      "1  A001   Paris   25    Mr. John      Alter                  3   Project 9   \n",
      "2  A001   Paris   25    Mr. John      Alter                  3  Project 11   \n",
      "3  A002  London   27  Mrs. Alice  Luxumberg                  3   Project 2   \n",
      "4  A002  London   27  Mrs. Alice  Luxumberg                  3   Project 6   \n",
      "\n",
      "        Cost    Status    Bonus  \n",
      "0  1002000.0  Finished  50100.0  \n",
      "1  2210312.5   Ongoing      0.0  \n",
      "2  2000000.0    Failed      0.0  \n",
      "3  2000000.0   Ongoing      0.0  \n",
      "4   680000.0    Failed      0.0  \n"
     ]
    }
   ],
   "source": [
    "# Displaying Outputs\n",
    "print(\"Final DataFrame:\")\n",
    "print(final_df.head())"
   ]
  },
  {
   "cell_type": "code",
   "execution_count": 18,
   "id": "351bda2f-41d8-407c-a9ea-3f9c3f318e37",
   "metadata": {},
   "outputs": [
    {
     "name": "stdout",
     "output_type": "stream",
     "text": [
      "\n",
      "Total Project Cost DataFrame:\n",
      "     ID  First Name  Total Cost\n",
      "0  A001    Mr. John   5212312.5\n",
      "1  A002  Mrs. Alice   2680000.0\n",
      "2  A003     Mr. Tom   5150000.0\n",
      "3  A004   Mrs. Nina   9500000.0\n",
      "4  A005    Mrs. Amy   3850500.0\n"
     ]
    }
   ],
   "source": [
    "print(\"\\nTotal Project Cost DataFrame:\")\n",
    "print(total_cost_df)"
   ]
  },
  {
   "cell_type": "code",
   "execution_count": 19,
   "id": "a5862706-c20a-4b8b-9ff6-94b4150f2cfe",
   "metadata": {},
   "outputs": [
    {
     "name": "stdout",
     "output_type": "stream",
     "text": [
      "\n",
      "Employees from Cities with 'o':\n",
      "      ID  First Name     City\n",
      "3   A002  Mrs. Alice   London\n",
      "4   A002  Mrs. Alice   London\n",
      "8   A004   Mrs. Nina  Newyork\n",
      "9   A004   Mrs. Nina  Newyork\n",
      "10  A004   Mrs. Nina  Newyork\n"
     ]
    }
   ],
   "source": [
    "print(\"\\nEmployees from Cities with 'o':\")\n",
    "print(filtered_employees[['ID', 'First Name', 'City']])"
   ]
  },
  {
   "cell_type": "code",
   "execution_count": null,
   "id": "44424326-98dc-40cf-b37a-513e169128ff",
   "metadata": {},
   "outputs": [],
   "source": []
  }
 ],
 "metadata": {
  "kernelspec": {
   "display_name": "Python 3 (ipykernel)",
   "language": "python",
   "name": "python3"
  },
  "language_info": {
   "codemirror_mode": {
    "name": "ipython",
    "version": 3
   },
   "file_extension": ".py",
   "mimetype": "text/x-python",
   "name": "python",
   "nbconvert_exporter": "python",
   "pygments_lexer": "ipython3",
   "version": "3.13.0"
  }
 },
 "nbformat": 4,
 "nbformat_minor": 5
}
